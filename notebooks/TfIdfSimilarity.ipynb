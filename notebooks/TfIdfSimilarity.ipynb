{
 "cells": [
  {
   "cell_type": "code",
   "execution_count": 2,
   "metadata": {},
   "outputs": [],
   "source": [
    "import numpy as np"
   ]
  },
  {
   "cell_type": "code",
   "execution_count": 3,
   "metadata": {},
   "outputs": [],
   "source": [
    "dataSet = [\n",
    "    \"SpaceX shows off its Starship test flight one more time Taking a victory lap around the test flight that wrapped up quite a year for SpaceX, the company posted a longer video of its Starship SN8 highaltitude test flight. Its high speed impact and explosion is just a footnote, as this twominute video marvels at t Taking a victory lap around the test flight that wrapped up quite a year for SpaceX, the company posted a longer video of its Starship SN8 highaltitude test flight. Its high speed impact and explosin\"\n",
    "    \"Elon Musk says SpaceX to double launch pad usage for Starship tests, Super Heavy flights coming in a few months SpaceX is set to significantly ramp up its Starship development program in the new year, in more ways than one. SpaceX CEO and founder Elon Musk noted on Twitter on Thursday that the company will seek to make use of both of its two launch pads at its developm SpaceX is set to significantly ramp up its Starship development program in the new year, in more ways than one. SpaceX CEO and founder Elon Musk noted on Twitter on Thursday that the company will see \"\n",
    "    \"After Math  Sony is spending a billion bucks on Crunchyrolls anime service Its been a week of big deals, big trouble (at least for Facebook), and even bigger televisions. Apple announced its new overear AirPods Max, Sonys Funimation officialized its billiondollar bid for rival Crunchyroll, and SpaceX scored a huge payday from th Once only found on the shinlevel shelves in the international section of our local video rental shops, anime as an art form has become a global phenomenon and pillar of pop culture. Its influence  \"\n",
    "    \"Watch SpaceX launch a U.S. spy satellite live and bring its booster back for a landing on terra firma SpaceX is launching a Falcon 9 today from Kennedy Space Center, with a launch window that spans three hours and opens at 9 AM EST (6 AM PST). The mission will carry a spy satellite for the U.S. National Reconnaissance Office (NRO), and will include a recovery SpaceX is launching a Falcon 9 today from Kennedy Space Center, with a launch window that spans three hours and opens at 9 AM EST (6 AM PST). The mission will carry a spy satellite for the U.S. Natio \"\n",
    "    \"SpaceX just launched a classified spy satellite into orbit The undisclosed package, called NROL108, is a U.S spy satellite for the National Reconnaissance Office (NRO) that was launched with a Falcon 9 rocket on December 19. It was a record 26th launch this year for SpaceX. Read more...More about Spy, Satellite, La The undisclosed package, called NROL108, is a U.S. spy satellite for the National Reconnaissance Office (NRO) that was launched with a Falcon 9 rocket on December 19. It was a record 26th launch th\"\n",
    "    \"Elon Musk becomes worlds richest person worth 185bn The Tesla and SpaceX owner replaces Jeff Bezos as the richest man on the planet. Elon Musk has become the worlds richest person, as his net worth crossed 185bn (6bn).The Tesla and SpaceX entrepreneur was pushed into the top slot after Teslas share price increased on Thurs \"\n",
    "    \"A deep dive on Steve Jurvetson and Maryanna Saenkos 200 million new fund Future Ventures  cofounded by renowned VC Steve Jurvetson and Maryanna Saenko, a colleague of Jurvetson at his last firm, DFJ, as well as an investor previously with Airbus Ventures and Khosla Ventures  has closed its second fund with 200 million in capita Future Ventures  cofounded by renowned VC Steve Jurvetson and Maryanna Saenko, a colleague of Jurvetson at his last firm, DFJ, as well as an investor previously with Airbus Ventures and Khosla Ventu \"\n",
    "    \"Five easy ways for Elon Musk to combine his companies into a superconglomerate Elon Musk says creating a holding company above Tesla, SpaceX, Neuralink, and The Boring Company is a good idea. Its not that farfetched an idea  after all, this is what Google did with Alphabet so here are five ways he could do it. Photo by Pauline Acalin for The Verge Elon Musk thinks its a good idea to create a holding company above Tesla, SpaceX, Neuralink, and The Boring Company  at least, thats what the billiona \"\n",
    "    \"The Morning After  Cyberpunk 2077 got its first postlaunch patch This weeks news swung between some ridiculous extremes. CD Projekt Red released Cyberpunk 2077 without addressing many of the issues people had with its design choices, marketing, development crunch or performance on older consoles  and still set records.  This weeks news swung between some ridiculous extremes. CD Projekt Red released Cyberpunk 2077 without addressing many of the issues people had with its design choices, marketing, development crunch \"\n",
    "    \"Elon Musk dunks on Facebook and recommends Signal in wake of U.S. Capitol insurrection attempt Elon Musk, the tech billionaire set to likely soon become the worlds richest man, and one of the most influential voices in the world of tech entrepreneurship, continued his recent trend of criticizing Facebook with a Twitter post late Wednesday night, follo Elon Musk, the tech billionaire set to likely soon become the worlds richest man, and one of the most influential voices in the world of tech entrepreneurship, continued his recent trend of criticiz \"\n",
    "    \"Magdrive secures Seed funding for new propulsion system which could take us to the stars A startup with a new type of spacecraft propulsion system could make the interplanetary travel seen in Star Trek a reality. Magdrive has just closed a 1.4M seed round led by Founders Fund, an early investor in SpaceX, backed by Luminous Ventures, 7percent Ve A startup with a new type of spacecraft propulsion system could make the interplanetary travel seen in Star Trek a reality. Magdrive has just closed a 1.4M seed round led by Founders Fund, an early  \"\n",
    "    \"NASA opens new launchpad at Kennedy Space Center meant to serve multiple commercial launch customers NASA has finished work on a new launchpad at its Kennedy Space Center in Florida  Launch Complex 48 , a pad that will be able to support smaller launch vehicles than either LC39A or B, or SLC41, which currently host SpaceX, SLS and ULA launches resp NASA has finished work on a new launchpad at its Kennedy Space Center in Florida Launch Complex 48 , a pad that will be able to support smaller launch vehicles than either LC39A or B, or SLC \"\n",
    "    \"SpaceX Will Try to Catch Its Starship Boosters Instead of Landing Them Not content to keep things simple or easy, SpaceX plans to catch its upcoming Super Heavy booster rockets at the launch tower, allowing for subsequent relaunches a mere one hour later. Read more... Not content to keep things simple or easy, SpaceX plans to catch its upcoming Super Heavy booster rockets at the launch tower, allowing for subsequent relaunches a mere one hour later. Not to be co \"\n",
    "    \"Amazons Project Kuiper reveals design of antennas customers will use for internetfromspace constellation On December 16th, Amazon unveiled the design of the user antennas customers will use to receive internet from the companys massive future satellite constellation, Project Kuiper. Amazon claims they are smaller and lighter than legacy antennasA graphic showing the design of Amazons user antennaImage  AmazonToday, Amazon revealed the design of the antennas its customers\"\n",
    "    \"Elon Musk has a new title  worlds richest person Elon Musk, the controversial and enigmatic entrepreneur who heads up SpaceX and Tesla, has reached a status that only three others have held in the past two decades  worlds richest person. On his way to the top spot, Musk has surpassed a bevy of billionaires Elon Musk, the controversial and enigmatic entrepreneur who heads up SpaceX and Tesla, has reached a status that only three others have held in the past two decades  worlds richest person.On his w \"\n",
    "    \"NASA approves Blue Origins New Glenn for future uncrewed missions NASA has approved Blue Origins New Glenn heavy lift rocket for future unmanned scientific and exploration missions, even though the 310 foot reusable booster has yet to fly. The contract, part of the space agencys NASA Launch Services (NLS), is an important SpaceXs Falcon and Falcon Heavy rockets have both been approved by NASA under the same category, but only the Falcon has flown NASA missions, while the Falcon Heavy has flown two private commercial\"\n",
    "    \"SpaceX launches classified satellite into space, its last mission of 2020  10 Tampa Bay  SpaceX launches classified satellite into space, its last mission of 202010 Tampa Bay SpaceX makes its last launch of the year successfullyEntrepreneur SpaceX launches classified US spy sateldte into orbit on final 2020 missio ull\",\n",
    "    \"SpaceX just launched a powerful Sirius XM sateldte into orbit and nailed a rocket landing  Space.com  SpaceX just launched a powerful Sirius XM sateldte into orbit and nailed a rocket landingSpace.comd SpaceX launches sateldte for SiriusXM radio from Cape CanaveralOrlando Sentineld Updates  Watch SpaceX launch SiriusXM sateldt CAPE CANAVERAL, Fla. SpaceX launched a veteran Falcon 9 rockets on its seventh trip to space Sunday (Dec. 13) to carry a massive radio sateldte into orbit for Sirius XM and then return to Earth.\"\n",
    "    \"SpaceX scrubs Falcon 9 launch to assess second stage issue  Spacefdght Now  SpaceX scrubs Falcon 9 launch to assess second stage issueSpacefdght Nowd Watch SpaceX launch a US spy sateldte dve and bring its booster back for a landing on terra firmaTechCrunchd Last SpaceX launch of the year will boost a EDITORS NOTE Updated at 2 a.m. EST (0700 GMT) with delay to Saturday.SpaceXs Falcon 9 rocket stands on pad 39A at the Kennedy Space Center on Thursday after an aborted countdown. Credit  SpaceX\"\n",
    "    \"SiriusXMs New SXM7 Sateldte, Built by Maxar and Launched Aboard A SpaceX Falcon 9, Performing Properly After Launch  Space Ref  SiriusXMs New SXM7 Sateldte, Built by Maxar and Launched Aboard A SpaceX Falcon 9, Performing Properly After LaunchSpace Refd SpaceX launches sateldte in companys 25th flight to orbit in 2020Global News SpaceX Falcon 9 lift SiriusXMs New SXM7 Satellite, Built by Maxar and Launched Aboard A SpaceX Falcon 9, Performing Properly After LaunchPress Release From  Maxar TechnologiesPosted  Monday, December 14, 2020 Max \"\n",
    "]"
   ]
  },
  {
   "cell_type": "code",
   "execution_count": 4,
   "metadata": {},
   "outputs": [],
   "source": [
    "documentCount = len(dataSet)"
   ]
  },
  {
   "cell_type": "code",
   "execution_count": 5,
   "metadata": {
    "scrolled": false
   },
   "outputs": [],
   "source": [
    "# reps [ count, documentCount, tfidf: default 0 ]\n",
    "\n",
    "tfidf_score = dict()\n",
    "docCount=0\n",
    "for doc in dataSet:\n",
    "    docCount += 1\n",
    "    doc = doc.lower()\n",
    "    textList = doc.split()\n",
    "    for word in textList:\n",
    "        if word in tfidf_score:\n",
    "            tfidf_score[word][0] += 1\n",
    "            tfidf_score[word][1].append(docCount)\n",
    "        else:\n",
    "            tfidf_score[word] = [ 1, [docCount], 0 ]\n",
    "\n",
    "for text in tfidf_score:\n",
    "    tfidf_score[text][1] = len(set(tfidf_score[text][1]))\n",
    "    tfidf_score[text][2] = np.log(documentCount/tfidf_score[text][1])\n",
    "    tfidf_score[text][0] = 1 + np.log10(tfidf_score[text][0])\n",
    "    tfidf_score[text] = tfidf_score[text][2] * tfidf_score[text][1]\n",
    "\n",
    "# for text in tfidf_score:\n",
    "#     print(f\"{text} : {tfidf_score[text]}\")\n",
    "\n"
   ]
  },
  {
   "cell_type": "code",
   "execution_count": 9,
   "metadata": {
    "scrolled": false
   },
   "outputs": [],
   "source": [
    "# for text in tfidf_score:\n",
    "#     if (tfidf_score[text] != 0):\n",
    "#         print(f\"{text} : {tfidf_score[text]}\")"
   ]
  },
  {
   "cell_type": "code",
   "execution_count": 7,
   "metadata": {},
   "outputs": [],
   "source": [
    "def getTextScore(t):\n",
    "    if t not in tfidf_score:\n",
    "        return 0\n",
    "    return tfidf_score[t]\n",
    "\n",
    "def computeScore(sent):\n",
    "    textList = sent.split()\n",
    "    scoreList = [ getTextScore(text) for text in textList ]\n",
    "    return sum(scoreList)"
   ]
  },
  {
   "cell_type": "code",
   "execution_count": 8,
   "metadata": {},
   "outputs": [
    {
     "data": {
      "text/plain": [
       "0.6931471805599453"
      ]
     },
     "execution_count": 8,
     "metadata": {},
     "output_type": "execute_result"
    }
   ],
   "source": [
    "computeScore(\"working in time\")"
   ]
  },
  {
   "cell_type": "code",
   "execution_count": null,
   "metadata": {},
   "outputs": [],
   "source": []
  },
  {
   "cell_type": "code",
   "execution_count": null,
   "metadata": {},
   "outputs": [],
   "source": []
  },
  {
   "cell_type": "code",
   "execution_count": null,
   "metadata": {},
   "outputs": [],
   "source": []
  },
  {
   "cell_type": "code",
   "execution_count": null,
   "metadata": {},
   "outputs": [],
   "source": []
  }
 ],
 "metadata": {
  "kernelspec": {
   "display_name": "Python 3",
   "language": "python",
   "name": "python3"
  },
  "language_info": {
   "codemirror_mode": {
    "name": "ipython",
    "version": 3
   },
   "file_extension": ".py",
   "mimetype": "text/x-python",
   "name": "python",
   "nbconvert_exporter": "python",
   "pygments_lexer": "ipython3",
   "version": "3.6.9"
  }
 },
 "nbformat": 4,
 "nbformat_minor": 4
}
